{
 "cells": [
  {
   "cell_type": "markdown",
   "metadata": {},
   "source": [
    "# Project: Analysis Of Hospital Appointments in Brazil \n",
    "\n",
    "## Table of Contents\n",
    "<ul>\n",
    "<li><a href=\"#intro\">Introduction</a></li>\n",
    "<li><a href=\"#wrangling\">Data Wrangling</a></li>\n",
    "<li><a href=\"#eda\">Exploratory Data Analysis</a></li>\n",
    "<li><a href=\"#conclusions\">Conclusions</a></li>\n",
    "</ul>"
   ]
  },
  {
   "cell_type": "markdown",
   "metadata": {},
   "source": [
    "<a id='intro'></a>\n",
    "## Introduction\n",
    "\n",
    "\n",
    "\n",
    "> This dataset provides data on over an hundred thousand hospital appointments in Brazil. \n",
    "> It contains various information on patient personal data and general health conditions.\n",
    "> This Project aims to answer the following research questions:\n",
    "> 1. Was there any difference in attendance rate of patients based on their alcoholism status?\n",
    "> 2. Was there a greater attendance rate among those that were invited by SMS and those that were not?\n",
    "> 3. Given the historical background of Brazil's Welfare System, was their better attendance among scholarship holders compared to others?\n",
    "> 4. Were there differences in compliance rate of patients based on the degree of their handicap or disability?\n",
    "> 5. What is the general patient age distribution? What is the age distribution among patients that honoured their appointments and those that did not?"
   ]
  },
  {
   "cell_type": "markdown",
   "metadata": {},
   "source": [
    "#### Importing the Necessary Libraries"
   ]
  },
  {
   "cell_type": "code",
   "execution_count": 2,
   "metadata": {},
   "outputs": [],
   "source": [
    "import numpy as np\n",
    "import pandas as pd\n",
    "import matplotlib.pyplot as plt\n",
    "import seaborn as sns\n",
    "%matplotlib inline"
   ]
  },
  {
   "cell_type": "markdown",
   "metadata": {},
   "source": [
    "#### Importing the dataset"
   ]
  },
  {
   "cell_type": "code",
   "execution_count": 3,
   "metadata": {},
   "outputs": [],
   "source": [
    "df = pd.read_csv('noshowappointments-kagglev2-may-2016.csv')\n"
   ]
  },
  {
   "cell_type": "markdown",
   "metadata": {},
   "source": [
    "<a id='wrangling'></a>\n",
    "## Data Wrangling\n",
    "\n",
    "\n",
    "\n",
    "### General Properties"
   ]
  },
  {
   "cell_type": "markdown",
   "metadata": {},
   "source": [
    "#### Loading Dataset and General Overview"
   ]
  },
  {
   "cell_type": "code",
   "execution_count": 4,
   "metadata": {},
   "outputs": [
    {
     "data": {
      "text/html": [
       "<div>\n",
       "<style scoped>\n",
       "    .dataframe tbody tr th:only-of-type {\n",
       "        vertical-align: middle;\n",
       "    }\n",
       "\n",
       "    .dataframe tbody tr th {\n",
       "        vertical-align: top;\n",
       "    }\n",
       "\n",
       "    .dataframe thead th {\n",
       "        text-align: right;\n",
       "    }\n",
       "</style>\n",
       "<table border=\"1\" class=\"dataframe\">\n",
       "  <thead>\n",
       "    <tr style=\"text-align: right;\">\n",
       "      <th></th>\n",
       "      <th>PatientId</th>\n",
       "      <th>AppointmentID</th>\n",
       "      <th>Gender</th>\n",
       "      <th>ScheduledDay</th>\n",
       "      <th>AppointmentDay</th>\n",
       "      <th>Age</th>\n",
       "      <th>Neighbourhood</th>\n",
       "      <th>Scholarship</th>\n",
       "      <th>Hipertension</th>\n",
       "      <th>Diabetes</th>\n",
       "      <th>Alcoholism</th>\n",
       "      <th>Handcap</th>\n",
       "      <th>SMS_received</th>\n",
       "      <th>No-show</th>\n",
       "    </tr>\n",
       "  </thead>\n",
       "  <tbody>\n",
       "    <tr>\n",
       "      <th>0</th>\n",
       "      <td>2.987250e+13</td>\n",
       "      <td>5642903</td>\n",
       "      <td>F</td>\n",
       "      <td>2016-04-29T18:38:08Z</td>\n",
       "      <td>2016-04-29T00:00:00Z</td>\n",
       "      <td>62</td>\n",
       "      <td>JARDIM DA PENHA</td>\n",
       "      <td>0</td>\n",
       "      <td>1</td>\n",
       "      <td>0</td>\n",
       "      <td>0</td>\n",
       "      <td>0</td>\n",
       "      <td>0</td>\n",
       "      <td>No</td>\n",
       "    </tr>\n",
       "    <tr>\n",
       "      <th>1</th>\n",
       "      <td>5.589978e+14</td>\n",
       "      <td>5642503</td>\n",
       "      <td>M</td>\n",
       "      <td>2016-04-29T16:08:27Z</td>\n",
       "      <td>2016-04-29T00:00:00Z</td>\n",
       "      <td>56</td>\n",
       "      <td>JARDIM DA PENHA</td>\n",
       "      <td>0</td>\n",
       "      <td>0</td>\n",
       "      <td>0</td>\n",
       "      <td>0</td>\n",
       "      <td>0</td>\n",
       "      <td>0</td>\n",
       "      <td>No</td>\n",
       "    </tr>\n",
       "    <tr>\n",
       "      <th>2</th>\n",
       "      <td>4.262962e+12</td>\n",
       "      <td>5642549</td>\n",
       "      <td>F</td>\n",
       "      <td>2016-04-29T16:19:04Z</td>\n",
       "      <td>2016-04-29T00:00:00Z</td>\n",
       "      <td>62</td>\n",
       "      <td>MATA DA PRAIA</td>\n",
       "      <td>0</td>\n",
       "      <td>0</td>\n",
       "      <td>0</td>\n",
       "      <td>0</td>\n",
       "      <td>0</td>\n",
       "      <td>0</td>\n",
       "      <td>No</td>\n",
       "    </tr>\n",
       "    <tr>\n",
       "      <th>3</th>\n",
       "      <td>8.679512e+11</td>\n",
       "      <td>5642828</td>\n",
       "      <td>F</td>\n",
       "      <td>2016-04-29T17:29:31Z</td>\n",
       "      <td>2016-04-29T00:00:00Z</td>\n",
       "      <td>8</td>\n",
       "      <td>PONTAL DE CAMBURI</td>\n",
       "      <td>0</td>\n",
       "      <td>0</td>\n",
       "      <td>0</td>\n",
       "      <td>0</td>\n",
       "      <td>0</td>\n",
       "      <td>0</td>\n",
       "      <td>No</td>\n",
       "    </tr>\n",
       "    <tr>\n",
       "      <th>4</th>\n",
       "      <td>8.841186e+12</td>\n",
       "      <td>5642494</td>\n",
       "      <td>F</td>\n",
       "      <td>2016-04-29T16:07:23Z</td>\n",
       "      <td>2016-04-29T00:00:00Z</td>\n",
       "      <td>56</td>\n",
       "      <td>JARDIM DA PENHA</td>\n",
       "      <td>0</td>\n",
       "      <td>1</td>\n",
       "      <td>1</td>\n",
       "      <td>0</td>\n",
       "      <td>0</td>\n",
       "      <td>0</td>\n",
       "      <td>No</td>\n",
       "    </tr>\n",
       "  </tbody>\n",
       "</table>\n",
       "</div>"
      ],
      "text/plain": [
       "      PatientId  AppointmentID Gender          ScheduledDay  \\\n",
       "0  2.987250e+13        5642903      F  2016-04-29T18:38:08Z   \n",
       "1  5.589978e+14        5642503      M  2016-04-29T16:08:27Z   \n",
       "2  4.262962e+12        5642549      F  2016-04-29T16:19:04Z   \n",
       "3  8.679512e+11        5642828      F  2016-04-29T17:29:31Z   \n",
       "4  8.841186e+12        5642494      F  2016-04-29T16:07:23Z   \n",
       "\n",
       "         AppointmentDay  Age      Neighbourhood  Scholarship  Hipertension  \\\n",
       "0  2016-04-29T00:00:00Z   62    JARDIM DA PENHA            0             1   \n",
       "1  2016-04-29T00:00:00Z   56    JARDIM DA PENHA            0             0   \n",
       "2  2016-04-29T00:00:00Z   62      MATA DA PRAIA            0             0   \n",
       "3  2016-04-29T00:00:00Z    8  PONTAL DE CAMBURI            0             0   \n",
       "4  2016-04-29T00:00:00Z   56    JARDIM DA PENHA            0             1   \n",
       "\n",
       "   Diabetes  Alcoholism  Handcap  SMS_received No-show  \n",
       "0         0           0        0             0      No  \n",
       "1         0           0        0             0      No  \n",
       "2         0           0        0             0      No  \n",
       "3         0           0        0             0      No  \n",
       "4         1           0        0             0      No  "
      ]
     },
     "execution_count": 4,
     "metadata": {},
     "output_type": "execute_result"
    }
   ],
   "source": [
    "# Load your data and print out a few lines. Perform operations to inspect data\n",
    "#   types and look for instances of missing or possibly errant data.\n",
    "df = pd.read_csv('noshowappointments-kagglev2-may-2016.csv')\n",
    "df.head()"
   ]
  },
  {
   "cell_type": "code",
   "execution_count": 5,
   "metadata": {},
   "outputs": [
    {
     "name": "stdout",
     "output_type": "stream",
     "text": [
      "<class 'pandas.core.frame.DataFrame'>\n",
      "RangeIndex: 110527 entries, 0 to 110526\n",
      "Data columns (total 14 columns):\n",
      " #   Column          Non-Null Count   Dtype  \n",
      "---  ------          --------------   -----  \n",
      " 0   PatientId       110527 non-null  float64\n",
      " 1   AppointmentID   110527 non-null  int64  \n",
      " 2   Gender          110527 non-null  object \n",
      " 3   ScheduledDay    110527 non-null  object \n",
      " 4   AppointmentDay  110527 non-null  object \n",
      " 5   Age             110527 non-null  int64  \n",
      " 6   Neighbourhood   110527 non-null  object \n",
      " 7   Scholarship     110527 non-null  int64  \n",
      " 8   Hipertension    110527 non-null  int64  \n",
      " 9   Diabetes        110527 non-null  int64  \n",
      " 10  Alcoholism      110527 non-null  int64  \n",
      " 11  Handcap         110527 non-null  int64  \n",
      " 12  SMS_received    110527 non-null  int64  \n",
      " 13  No-show         110527 non-null  object \n",
      "dtypes: float64(1), int64(8), object(5)\n",
      "memory usage: 11.8+ MB\n"
     ]
    }
   ],
   "source": [
    "#getting a general overview of the dataset\n",
    "df.info()"
   ]
  },
  {
   "cell_type": "code",
   "execution_count": 6,
   "metadata": {},
   "outputs": [
    {
     "data": {
      "text/plain": [
       "False    110527\n",
       "dtype: int64"
      ]
     },
     "execution_count": 6,
     "metadata": {},
     "output_type": "execute_result"
    }
   ],
   "source": [
    "# checking for duplicated rows \n",
    "df.duplicated().value_counts()"
   ]
  },
  {
   "cell_type": "markdown",
   "metadata": {},
   "source": [
    "> There are one hundred and ten thousand, five hundred and twenty seven(110,527) observations and 13 columns in the No-show Appointment dataset. No missing values or duplicated rows are recorded across the observations."
   ]
  },
  {
   "cell_type": "markdown",
   "metadata": {},
   "source": [
    "__*General Insights...*__"
   ]
  },
  {
   "cell_type": "code",
   "execution_count": 7,
   "metadata": {},
   "outputs": [
    {
     "data": {
      "text/plain": [
       "No     88208\n",
       "Yes    22319\n",
       "Name: No-show, dtype: int64"
      ]
     },
     "execution_count": 7,
     "metadata": {},
     "output_type": "execute_result"
    }
   ],
   "source": [
    "df['No-show'].value_counts()"
   ]
  },
  {
   "cell_type": "markdown",
   "metadata": {},
   "source": [
    "> Of 110,527 appointments, the vast majority (88,208) took place. Only 22,319 appointments were missed."
   ]
  },
  {
   "cell_type": "code",
   "execution_count": 8,
   "metadata": {},
   "outputs": [
    {
     "data": {
      "text/plain": [
       "F    71840\n",
       "M    38687\n",
       "Name: Gender, dtype: int64"
      ]
     },
     "execution_count": 8,
     "metadata": {},
     "output_type": "execute_result"
    }
   ],
   "source": [
    "df['Gender'].value_counts()"
   ]
  },
  {
   "cell_type": "markdown",
   "metadata": {},
   "source": [
    "> The number of appointments with female patients(71,840) were almost double of that of the male patients(38,687)."
   ]
  },
  {
   "cell_type": "code",
   "execution_count": 9,
   "metadata": {},
   "outputs": [
    {
     "data": {
      "text/plain": [
       "F    57246\n",
       "M    30962\n",
       "Name: Gender, dtype: int64"
      ]
     },
     "execution_count": 9,
     "metadata": {},
     "output_type": "execute_result"
    }
   ],
   "source": [
    "df[df['No-show'] == 'No'].Gender.value_counts()"
   ]
  },
  {
   "cell_type": "markdown",
   "metadata": {},
   "source": [
    "> Of 88,208 honoured appointments, 57,246 were females and 30,962 were males"
   ]
  },
  {
   "cell_type": "code",
   "execution_count": 10,
   "metadata": {},
   "outputs": [
    {
     "data": {
      "text/plain": [
       "F    14594\n",
       "M     7725\n",
       "Name: Gender, dtype: int64"
      ]
     },
     "execution_count": 10,
     "metadata": {},
     "output_type": "execute_result"
    }
   ],
   "source": [
    "df[df['No-show'] == 'Yes'].Gender.value_counts()"
   ]
  },
  {
   "cell_type": "markdown",
   "metadata": {},
   "source": [
    ">Of 22,319 missed appointments, 14,594 were females and 7,725 were males"
   ]
  },
  {
   "cell_type": "code",
   "execution_count": 11,
   "metadata": {},
   "outputs": [
    {
     "data": {
      "text/plain": [
       "37.08887421173107"
      ]
     },
     "execution_count": 11,
     "metadata": {},
     "output_type": "execute_result"
    }
   ],
   "source": [
    "df.Age.mean()"
   ]
  },
  {
   "cell_type": "markdown",
   "metadata": {},
   "source": [
    "> The mean age of patients was 37 years."
   ]
  },
  {
   "cell_type": "markdown",
   "metadata": {},
   "source": [
    "#### General Visualization of Some Attributes With a Histogram"
   ]
  },
  {
   "cell_type": "code",
   "execution_count": 12,
   "metadata": {},
   "outputs": [
    {
     "data": {
      "image/png": "[encoded data removed]",
      "text/plain": [
       "<Figure size 288x432 with 1 Axes>"
      ]
     },
     "metadata": {
      "needs_background": "light"
     },
     "output_type": "display_data"
    }
   ],
   "source": [
    "#Plot on the missed attendance rate among patients\n",
    "df['No-show'].value_counts().plot(kind='bar', xlabel='Patient Did not Attend', ylabel='Count', title='Missed attendance among all Patients', rot=45, figsize=(4,6), color='maroon');"
   ]
  },
  {
   "cell_type": "markdown",
   "metadata": {},
   "source": [
    "_Age distribution of Patients on Histogram._"
   ]
  },
  {
   "cell_type": "code",
   "execution_count": 13,
   "metadata": {},
   "outputs": [
    {
     "data": {
      "image/png": "[encoded data removed]",
      "text/plain": [
       "<Figure size 432x288 with 1 Axes>"
      ]
     },
     "metadata": {
      "needs_background": "light"
     },
     "output_type": "display_data"
    }
   ],
   "source": [
    "plt.hist(df.Age, color='indigo', alpha=1, histtype='step', label='All Patients');\n",
    "plt.hist(df[df['Alcoholism'] == 0].Age, color='red', alpha=0.75, label='Not Alcoholics');\n",
    "plt.hist(df[df['Alcoholism'] == 1].Age, color='darkgreen', alpha=0.75, label='Alcoholics');\n",
    "plt.legend()\n",
    "plt.xlabel('Age');\n",
    "plt.ylabel('Number of Patients');\n",
    "plt.title('Age Distribution of Patients with Appointments');"
   ]
  },
  {
   "cell_type": "code",
   "execution_count": 14,
   "metadata": {},
   "outputs": [
    {
     "data": {
      "image/png": "[encoded data removed]",
      "text/plain": [
       "<Figure size 432x432 with 1 Axes>"
      ]
     },
     "metadata": {
      "needs_background": "light"
     },
     "output_type": "display_data"
    }
   ],
   "source": [
    "#Alcoholics with appointments\n",
    "sns.displot(x=df[df['Alcoholism'] == 1].Age,color='red', label='Age of Patients',bins=10, height=6).set(title='Age Distribution of Alcoholics with Appointments');"
   ]
  },
  {
   "cell_type": "code",
   "execution_count": 15,
   "metadata": {},
   "outputs": [
    {
     "data": {
      "image/png": "[encoded data removed]",
      "text/plain": [
       "<Figure size 432x432 with 1 Axes>"
      ]
     },
     "metadata": {
      "needs_background": "light"
     },
     "output_type": "display_data"
    }
   ],
   "source": [
    "#scholarship holders with appointments\n",
    "sns.displot(x=df[df['Scholarship'] == 1].Age,color='brown',bins=10, height=6).set(title='Age Distribution of Patients with Scholarships');"
   ]
  },
  {
   "cell_type": "markdown",
   "metadata": {},
   "source": [
    "> For all patient categories, the age distribution is skewed to the right. It appears that younger people had more appointments than the elderly. \n",
    "> The distribution pattern for alcoholics shows that older alcoholics had more appointments than the younger ones."
   ]
  },
  {
   "cell_type": "markdown",
   "metadata": {},
   "source": [
    "###### Further Notes on The Dataset Structure"
   ]
  },
  {
   "cell_type": "markdown",
   "metadata": {},
   "source": [
    "This project intends to further explore how some patient attributes affected their showing up to the hospital on the date of their appointments.\n",
    "For this purpose, I intend to:\n",
    "1. Drop the columns that I won't be using for this project. These include: PatientId, AppointmentID, ScheduledDay, AppointmentDay, Neighbourhood, Hipertension, and Diabetes.\n",
    "2. Modify the column names -converting to lowercase and replacing all dashes to underscores\n",
    "3. Modifying the 'No-show' data values such that 'No' has a value of 1 and 'Yes' has a value of 0.\n",
    "4. Etc"
   ]
  },
  {
   "cell_type": "markdown",
   "metadata": {},
   "source": [
    "### Cleaning up the dataframe: \n",
    "1. Dropping excess columns.\n",
    "2. Modifying column names to lowercase and replacing dashes with underscores\n",
    "3. Modifing select column values with better matching values, especially 'No-show' and 'Handcap columns."
   ]
  },
  {
   "cell_type": "markdown",
   "metadata": {},
   "source": [
    "###### 1. Dropping Excess Columns:"
   ]
  },
  {
   "cell_type": "code",
   "execution_count": 16,
   "metadata": {},
   "outputs": [
    {
     "data": {
      "text/plain": [
       "Index(['PatientId', 'AppointmentID', 'Gender', 'ScheduledDay',\n",
       "       'AppointmentDay', 'Age', 'Neighbourhood', 'Scholarship', 'Hipertension',\n",
       "       'Diabetes', 'Alcoholism', 'Handcap', 'SMS_received', 'No-show'],\n",
       "      dtype='object')"
      ]
     },
     "execution_count": 16,
     "metadata": {},
     "output_type": "execute_result"
    }
   ],
   "source": [
    "# print column names again to know which to drop\n",
    "df.columns"
   ]
  },
  {
   "cell_type": "code",
   "execution_count": 17,
   "metadata": {},
   "outputs": [
    {
     "data": {
      "text/html": [
       "<div>\n",
       "<style scoped>\n",
       "    .dataframe tbody tr th:only-of-type {\n",
       "        vertical-align: middle;\n",
       "    }\n",
       "\n",
       "    .dataframe tbody tr th {\n",
       "        vertical-align: top;\n",
       "    }\n",
       "\n",
       "    .dataframe thead th {\n",
       "        text-align: right;\n",
       "    }\n",
       "</style>\n",
       "<table border=\"1\" class=\"dataframe\">\n",
       "  <thead>\n",
       "    <tr style=\"text-align: right;\">\n",
       "      <th></th>\n",
       "      <th>Gender</th>\n",
       "      <th>Age</th>\n",
       "      <th>Scholarship</th>\n",
       "      <th>Alcoholism</th>\n",
       "      <th>Handcap</th>\n",
       "      <th>SMS_received</th>\n",
       "      <th>No-show</th>\n",
       "    </tr>\n",
       "  </thead>\n",
       "  <tbody>\n",
       "    <tr>\n",
       "      <th>0</th>\n",
       "      <td>F</td>\n",
       "      <td>62</td>\n",
       "      <td>0</td>\n",
       "      <td>0</td>\n",
       "      <td>0</td>\n",
       "      <td>0</td>\n",
       "      <td>No</td>\n",
       "    </tr>\n",
       "    <tr>\n",
       "      <th>1</th>\n",
       "      <td>M</td>\n",
       "      <td>56</td>\n",
       "      <td>0</td>\n",
       "      <td>0</td>\n",
       "      <td>0</td>\n",
       "      <td>0</td>\n",
       "      <td>No</td>\n",
       "    </tr>\n",
       "    <tr>\n",
       "      <th>2</th>\n",
       "      <td>F</td>\n",
       "      <td>62</td>\n",
       "      <td>0</td>\n",
       "      <td>0</td>\n",
       "      <td>0</td>\n",
       "      <td>0</td>\n",
       "      <td>No</td>\n",
       "    </tr>\n",
       "    <tr>\n",
       "      <th>3</th>\n",
       "      <td>F</td>\n",
       "      <td>8</td>\n",
       "      <td>0</td>\n",
       "      <td>0</td>\n",
       "      <td>0</td>\n",
       "      <td>0</td>\n",
       "      <td>No</td>\n",
       "    </tr>\n",
       "    <tr>\n",
       "      <th>4</th>\n",
       "      <td>F</td>\n",
       "      <td>56</td>\n",
       "      <td>0</td>\n",
       "      <td>0</td>\n",
       "      <td>0</td>\n",
       "      <td>0</td>\n",
       "      <td>No</td>\n",
       "    </tr>\n",
       "  </tbody>\n",
       "</table>\n",
       "</div>"
      ],
      "text/plain": [
       "  Gender  Age  Scholarship  Alcoholism  Handcap  SMS_received No-show\n",
       "0      F   62            0           0        0             0      No\n",
       "1      M   56            0           0        0             0      No\n",
       "2      F   62            0           0        0             0      No\n",
       "3      F    8            0           0        0             0      No\n",
       "4      F   56            0           0        0             0      No"
      ]
     },
     "execution_count": 17,
     "metadata": {},
     "output_type": "execute_result"
    }
   ],
   "source": [
    "# create a new dataframe that contains the original dataframe but \n",
    "#with only the relevant columns that will be studied \n",
    "clean_df = df.drop(['PatientId', 'AppointmentID', 'ScheduledDay',\n",
    "       'AppointmentDay','Neighbourhood', 'Hipertension',\n",
    "       'Diabetes'], axis=1)\n",
    "clean_df.head()\n"
   ]
  },
  {
   "cell_type": "markdown",
   "metadata": {},
   "source": [
    "###### 2. Modify Column Names"
   ]
  },
  {
   "cell_type": "code",
   "execution_count": 18,
   "metadata": {},
   "outputs": [
    {
     "data": {
      "text/plain": [
       "Index(['gender', 'age', 'scholarship', 'alcoholism', 'handcap', 'sms_received',\n",
       "       'showed_up'],\n",
       "      dtype='object')"
      ]
     },
     "execution_count": 18,
     "metadata": {},
     "output_type": "execute_result"
    }
   ],
   "source": [
    "clean_df.columns = clean_df.columns.str.lower()\n",
    "clean_df.rename(columns={'no-show':'showed_up'}, inplace=True)\n",
    "clean_df.columns"
   ]
  },
  {
   "cell_type": "markdown",
   "metadata": {},
   "source": [
    "###### 3. Convert all 'No' occurences in 'showed_up' to 'Yes' and all 'Yes' to 'No'"
   ]
  },
  {
   "cell_type": "code",
   "execution_count": 19,
   "metadata": {},
   "outputs": [
    {
     "data": {
      "text/plain": [
       "array(['Yes', 'No'], dtype=object)"
      ]
     },
     "execution_count": 19,
     "metadata": {},
     "output_type": "execute_result"
    }
   ],
   "source": [
    "clean_df['showed_up'] = df['No-show'].replace({'No':'Yes', 'Yes': 'No'})\n",
    "clean_df.showed_up.unique()"
   ]
  },
  {
   "cell_type": "markdown",
   "metadata": {},
   "source": [
    "###### 4. Convert values in 'alcoholic', 'sms_received and 'handcap' columns to more understandable equivalents"
   ]
  },
  {
   "cell_type": "code",
   "execution_count": 20,
   "metadata": {},
   "outputs": [
    {
     "data": {
      "text/plain": [
       "Index(['gender', 'age', 'scholarship', 'alcoholism', 'handcap', 'sms_received',\n",
       "       'showed_up'],\n",
       "      dtype='object')"
      ]
     },
     "execution_count": 20,
     "metadata": {},
     "output_type": "execute_result"
    }
   ],
   "source": [
    "#clean_df['alcoholism'] = clean_df.alcoholism.replace({1:'Alcoholic', 0: 'Non-alcoholic'})\n",
    "clean_df['handcap'] = clean_df.handcap.replace({0: 'Not disabled', 1: 'Mild disability', 2: 'Moderate disability', 3: 'Severe Disability', 4: 'Moribund'})\n",
    "clean_df['sms_received'] = clean_df.sms_received.replace({1:'Yes', 0: 'No'})\n",
    "clean_df.columns"
   ]
  },
  {
   "cell_type": "code",
   "execution_count": 21,
   "metadata": {},
   "outputs": [
    {
     "data": {
      "text/plain": [
       "Not disabled           108286\n",
       "Mild disability          2042\n",
       "Moderate disability       183\n",
       "Severe Disability          13\n",
       "Moribund                    3\n",
       "Name: handcap, dtype: int64"
      ]
     },
     "execution_count": 21,
     "metadata": {},
     "output_type": "execute_result"
    }
   ],
   "source": [
    "# general overview of counts of the individual categories of patients based on handicap.\n",
    "clean_df.handcap.value_counts()"
   ]
  },
  {
   "cell_type": "code",
   "execution_count": 22,
   "metadata": {},
   "outputs": [
    {
     "data": {
      "text/plain": [
       "No     75045\n",
       "Yes    35482\n",
       "Name: sms_received, dtype: int64"
      ]
     },
     "execution_count": 22,
     "metadata": {},
     "output_type": "execute_result"
    }
   ],
   "source": [
    "clean_df.sms_received.value_counts()"
   ]
  },
  {
   "cell_type": "code",
   "execution_count": 23,
   "metadata": {},
   "outputs": [
    {
     "data": {
      "text/plain": [
       "0    107167\n",
       "1      3360\n",
       "Name: alcoholism, dtype: int64"
      ]
     },
     "execution_count": 23,
     "metadata": {},
     "output_type": "execute_result"
    }
   ],
   "source": [
    "# After discussing the structure of the data and any problems that need to be\n",
    "#   cleaned, perform those cleaning steps in the second part of this section.\n",
    "clean_df.alcoholism.value_counts()"
   ]
  },
  {
   "cell_type": "code",
   "execution_count": 24,
   "metadata": {},
   "outputs": [
    {
     "data": {
      "text/plain": [
       "(Yes    85525\n",
       " No     21642\n",
       " Name: showed_up, dtype: int64,\n",
       " Yes    2683\n",
       " No      677\n",
       " Name: showed_up, dtype: int64)"
      ]
     },
     "execution_count": 24,
     "metadata": {},
     "output_type": "execute_result"
    }
   ],
   "source": [
    "# alcoholics and non alcoholics grouped by their compliance to clinic appointments\n",
    "clean_df[clean_df['alcoholism'] == 0].showed_up.value_counts(), clean_df[clean_df['alcoholism'] == 1].showed_up.value_counts()"
   ]
  },
  {
   "cell_type": "markdown",
   "metadata": {},
   "source": [
    "<a id='eda'></a>\n",
    "## Exploratory Data Analysis\n",
    "\n",
    "\n",
    "\n",
    "### 1. Was there any difference in attendance rate of patients based on their alcoholism status?"
   ]
  },
  {
   "cell_type": "code",
   "execution_count": 25,
   "metadata": {},
   "outputs": [
    {
     "data": {
      "text/plain": [
       "0    107167\n",
       "1      3360\n",
       "Name: alcoholism, dtype: int64"
      ]
     },
     "execution_count": 25,
     "metadata": {},
     "output_type": "execute_result"
    }
   ],
   "source": [
    "# getting an overview of patient numbers based on alcoholism status\n",
    "clean_df['alcoholism'].value_counts()\n"
   ]
  },
  {
   "cell_type": "code",
   "execution_count": 26,
   "metadata": {},
   "outputs": [
    {
     "data": {
      "image/png": "[encoded data removed]",
      "text/plain": [
       "<Figure size 288x432 with 1 Axes>"
      ]
     },
     "metadata": {
      "needs_background": "light"
     },
     "output_type": "display_data"
    }
   ],
   "source": [
    "# visualization of the above summary information\n",
    "clean_df['alcoholism'].value_counts().plot(kind='bar', xlabel='Alcoholism', ylabel='Count', title='Number of Alcoholic and Non-alcoholic Patients', rot=45, figsize=(4,6), color='orange');"
   ]
  },
  {
   "cell_type": "markdown",
   "metadata": {},
   "source": [
    " > The vast majority of patients in this sample were not alcoholics, that is over 10,000 people. \n",
    " > Only a small number (less than five thousand are alcoholics)"
   ]
  },
  {
   "cell_type": "markdown",
   "metadata": {},
   "source": [
    "###### Stacked Bar Graph Showing Percentage Attendance among Alcoholics and Non-alcoholics"
   ]
  },
  {
   "cell_type": "code",
   "execution_count": 27,
   "metadata": {},
   "outputs": [],
   "source": [
    "#create function for creating a dataframe for attendance based on certain attributes in the clean_df dataframe\n",
    "def makeAttendanceTable(myvalues, parentDataFrame, name_df, attribute):\n",
    "    name_df = pd.DataFrame()\n",
    "    name_df['Patients_with_appointments'] = myvalues\n",
    "    my_v_counts = parentDataFrame[parentDataFrame['showed_up'] == 'Yes'][attribute].value_counts()\n",
    "    name_df['Showed_up'] = my_v_counts.values.tolist()\n",
    "    my_v_counts = clean_df[clean_df['showed_up'] == 'No'][attribute].value_counts()\n",
    "    name_df['Missed_appointment'] = my_v_counts.values.tolist()\n",
    "    #adding columns for proportion\n",
    "    name_df['Total'] = name_df['Showed_up'] + name_df['Missed_appointment']\n",
    "    name_df['Percentage_that_attended'] = name_df['Showed_up']/name_df['Total'] * 100\n",
    "    name_df['Percentage_that_missed'] = 100 - name_df['Percentage_that_attended']\n",
    "    return name_df\n",
    "    "
   ]
  },
  {
   "cell_type": "code",
   "execution_count": 28,
   "metadata": {},
   "outputs": [
    {
     "data": {
      "text/html": [
       "<div>\n",
       "<style scoped>\n",
       "    .dataframe tbody tr th:only-of-type {\n",
       "        vertical-align: middle;\n",
       "    }\n",
       "\n",
       "    .dataframe tbody tr th {\n",
       "        vertical-align: top;\n",
       "    }\n",
       "\n",
       "    .dataframe thead th {\n",
       "        text-align: right;\n",
       "    }\n",
       "</style>\n",
       "<table border=\"1\" class=\"dataframe\">\n",
       "  <thead>\n",
       "    <tr style=\"text-align: right;\">\n",
       "      <th></th>\n",
       "      <th>Patients_with_appointments</th>\n",
       "      <th>Showed_up</th>\n",
       "      <th>Missed_appointment</th>\n",
       "      <th>Total</th>\n",
       "      <th>Percentage_that_attended</th>\n",
       "      <th>Percentage_that_missed</th>\n",
       "    </tr>\n",
       "  </thead>\n",
       "  <tbody>\n",
       "    <tr>\n",
       "      <th>0</th>\n",
       "      <td>Alcoholic</td>\n",
       "      <td>85525</td>\n",
       "      <td>21642</td>\n",
       "      <td>107167</td>\n",
       "      <td>79.805351</td>\n",
       "      <td>20.194649</td>\n",
       "    </tr>\n",
       "    <tr>\n",
       "      <th>1</th>\n",
       "      <td>Sober</td>\n",
       "      <td>2683</td>\n",
       "      <td>677</td>\n",
       "      <td>3360</td>\n",
       "      <td>79.851190</td>\n",
       "      <td>20.148810</td>\n",
       "    </tr>\n",
       "  </tbody>\n",
       "</table>\n",
       "</div>"
      ],
      "text/plain": [
       "  Patients_with_appointments  Showed_up  Missed_appointment   Total  \\\n",
       "0                  Alcoholic      85525               21642  107167   \n",
       "1                      Sober       2683                 677    3360   \n",
       "\n",
       "   Percentage_that_attended  Percentage_that_missed  \n",
       "0                 79.805351               20.194649  \n",
       "1                 79.851190               20.148810  "
      ]
     },
     "execution_count": 28,
     "metadata": {},
     "output_type": "execute_result"
    }
   ],
   "source": [
    "#create a dataframe that smummarizes patient alcoholism status with columns for percentages\n",
    "myvalues = ['Alcoholic', 'Sober']\n",
    "alcoholism_df = makeAttendanceTable(myvalues=myvalues, parentDataFrame=clean_df, name_df='alcoholism_df', attribute='alcoholism')\n",
    "alcoholism_df"
   ]
  },
  {
   "cell_type": "code",
   "execution_count": 29,
   "metadata": {},
   "outputs": [],
   "source": [
    "#create a function for plotting Attendance tables with barcharts\n",
    "def myBarPlot(data, title, kind, color):\n",
    "    myplot = data.plot(kind=kind,stacked=True, x='Patients_with_appointments', y=['Percentage_that_attended', 'Percentage_that_missed'],rot=45, color=color, ylabel='Percentage(%)', figsize=(8,4));\n",
    "    myplot.set_xlabel('Percentage');\n",
    "    myplot.set_title(title);"
   ]
  },
  {
   "cell_type": "code",
   "execution_count": 30,
   "metadata": {},
   "outputs": [
    {
     "data": {
      "image/png": "[encoded data removed]",
      "text/plain": [
       "<Figure size 576x288 with 1 Axes>"
      ]
     },
     "metadata": {
      "needs_background": "light"
     },
     "output_type": "display_data"
    }
   ],
   "source": [
    "# Plot a bar chart to illustrate the findings\n",
    "title='Chart Showing Percentage Attendance between Alcoholics and Non-alcoholics'\n",
    "myBarPlot(data=alcoholism_df, title=title, kind='barh', color=['orange','black'])"
   ]
  },
  {
   "cell_type": "markdown",
   "metadata": {},
   "source": [
    "> Percentage attendance among non-alcoholics was about 0.05% higher compared to patients that were alcoholics. \n",
    "> Proportionally, there was no significant difference in compliance to appointments between the alcoholic group and the other patients. \n"
   ]
  },
  {
   "cell_type": "markdown",
   "metadata": {},
   "source": [
    "### 2. Was there a greater attendance rate among those that were invited by SMS and thost that were not?"
   ]
  },
  {
   "cell_type": "code",
   "execution_count": 31,
   "metadata": {},
   "outputs": [
    {
     "data": {
      "text/html": [
       "<div>\n",
       "<style scoped>\n",
       "    .dataframe tbody tr th:only-of-type {\n",
       "        vertical-align: middle;\n",
       "    }\n",
       "\n",
       "    .dataframe tbody tr th {\n",
       "        vertical-align: top;\n",
       "    }\n",
       "\n",
       "    .dataframe thead th {\n",
       "        text-align: right;\n",
       "    }\n",
       "</style>\n",
       "<table border=\"1\" class=\"dataframe\">\n",
       "  <thead>\n",
       "    <tr style=\"text-align: right;\">\n",
       "      <th></th>\n",
       "      <th>Patients_with_appointments</th>\n",
       "      <th>Showed_up</th>\n",
       "      <th>Missed_appointment</th>\n",
       "      <th>Total</th>\n",
       "      <th>Percentage_that_attended</th>\n",
       "      <th>Percentage_that_missed</th>\n",
       "    </tr>\n",
       "  </thead>\n",
       "  <tbody>\n",
       "    <tr>\n",
       "      <th>0</th>\n",
       "      <td>Were Reminded</td>\n",
       "      <td>62510</td>\n",
       "      <td>12535</td>\n",
       "      <td>75045</td>\n",
       "      <td>83.296689</td>\n",
       "      <td>16.703311</td>\n",
       "    </tr>\n",
       "    <tr>\n",
       "      <th>1</th>\n",
       "      <td>Were Not Reminded</td>\n",
       "      <td>25698</td>\n",
       "      <td>9784</td>\n",
       "      <td>35482</td>\n",
       "      <td>72.425455</td>\n",
       "      <td>27.574545</td>\n",
       "    </tr>\n",
       "  </tbody>\n",
       "</table>\n",
       "</div>"
      ],
      "text/plain": [
       "  Patients_with_appointments  Showed_up  Missed_appointment  Total  \\\n",
       "0              Were Reminded      62510               12535  75045   \n",
       "1          Were Not Reminded      25698                9784  35482   \n",
       "\n",
       "   Percentage_that_attended  Percentage_that_missed  \n",
       "0                 83.296689               16.703311  \n",
       "1                 72.425455               27.574545  "
      ]
     },
     "execution_count": 31,
     "metadata": {},
     "output_type": "execute_result"
    }
   ],
   "source": [
    "#create a dataframe with percentages that summarises attendance among patients that got a reminder and those that didn't.\n",
    "myvalues = ['Were Reminded', 'Were Not Reminded']\n",
    "sms_df = makeAttendanceTable(myvalues=myvalues, parentDataFrame=clean_df, name_df='sms_df', attribute='sms_received')\n",
    "sms_df"
   ]
  },
  {
   "cell_type": "code",
   "execution_count": 32,
   "metadata": {},
   "outputs": [
    {
     "data": {
      "image/png": "[encoded data removed]",
      "text/plain": [
       "<Figure size 576x288 with 1 Axes>"
      ]
     },
     "metadata": {
      "needs_background": "light"
     },
     "output_type": "display_data"
    }
   ],
   "source": [
    "# Plot a bar chart to illustrate the findings\n",
    "title='Chart Showing Percentage Attendance between Patients that were Reminded and Patients that were not'\n",
    "myBarPlot(data=sms_df, title=title, kind='barh', color=['gold','brown'])"
   ]
  },
  {
   "cell_type": "markdown",
   "metadata": {},
   "source": [
    "> Attendance was up by almost 9% in the category of patients that were reminded of their appointments by SMS compared to those that were not reminded. "
   ]
  },
  {
   "cell_type": "markdown",
   "metadata": {},
   "source": [
    "### 3. Given the historical background of Brazil's Welfare System, was their better attendance among scholarship holders compared to others?"
   ]
  },
  {
   "cell_type": "code",
   "execution_count": 33,
   "metadata": {},
   "outputs": [
    {
     "data": {
      "text/html": [
       "<div>\n",
       "<style scoped>\n",
       "    .dataframe tbody tr th:only-of-type {\n",
       "        vertical-align: middle;\n",
       "    }\n",
       "\n",
       "    .dataframe tbody tr th {\n",
       "        vertical-align: top;\n",
       "    }\n",
       "\n",
       "    .dataframe thead th {\n",
       "        text-align: right;\n",
       "    }\n",
       "</style>\n",
       "<table border=\"1\" class=\"dataframe\">\n",
       "  <thead>\n",
       "    <tr style=\"text-align: right;\">\n",
       "      <th></th>\n",
       "      <th>Patients_with_appointments</th>\n",
       "      <th>Showed_up</th>\n",
       "      <th>Missed_appointment</th>\n",
       "      <th>Total</th>\n",
       "      <th>Percentage_that_attended</th>\n",
       "      <th>Percentage_that_missed</th>\n",
       "    </tr>\n",
       "  </thead>\n",
       "  <tbody>\n",
       "    <tr>\n",
       "      <th>0</th>\n",
       "      <td>Patients_with_scholarships</td>\n",
       "      <td>79925</td>\n",
       "      <td>19741</td>\n",
       "      <td>99666</td>\n",
       "      <td>80.192844</td>\n",
       "      <td>19.807156</td>\n",
       "    </tr>\n",
       "    <tr>\n",
       "      <th>1</th>\n",
       "      <td>Patients_without_scholarships</td>\n",
       "      <td>8283</td>\n",
       "      <td>2578</td>\n",
       "      <td>10861</td>\n",
       "      <td>76.263696</td>\n",
       "      <td>23.736304</td>\n",
       "    </tr>\n",
       "  </tbody>\n",
       "</table>\n",
       "</div>"
      ],
      "text/plain": [
       "      Patients_with_appointments  Showed_up  Missed_appointment  Total  \\\n",
       "0     Patients_with_scholarships      79925               19741  99666   \n",
       "1  Patients_without_scholarships       8283                2578  10861   \n",
       "\n",
       "   Percentage_that_attended  Percentage_that_missed  \n",
       "0                 80.192844               19.807156  \n",
       "1                 76.263696               23.736304  "
      ]
     },
     "execution_count": 33,
     "metadata": {},
     "output_type": "execute_result"
    }
   ],
   "source": [
    "#create a dataframe with percentages that summarises patient scholarship status.\n",
    "myvalues = ['Patients_with_scholarships', 'Patients_without_scholarships']\n",
    "scholarship_df = makeAttendanceTable(myvalues=myvalues, parentDataFrame=clean_df, name_df='sms_df', attribute='scholarship')\n",
    "scholarship_df"
   ]
  },
  {
   "cell_type": "code",
   "execution_count": 34,
   "metadata": {},
   "outputs": [
    {
     "data": {
      "image/png": "[encoded data removed]",
      "text/plain": [
       "<Figure size 576x288 with 1 Axes>"
      ]
     },
     "metadata": {
      "needs_background": "light"
     },
     "output_type": "display_data"
    }
   ],
   "source": [
    "\n",
    "# A bar chart to illustrate the findings in raw numbers\n",
    "anotherplt = scholarship_df.plot(kind='bar', x='Patients_with_appointments', y=['Showed_up', 'Missed_appointment'],rot=15, color=['magenta','black'], ylabel='Number of Patients', figsize=(8,4));\n",
    "anotherplt.set_title('Attendance among Scholarship Holders and patients without Scholarships');"
   ]
  },
  {
   "cell_type": "markdown",
   "metadata": {},
   "source": [
    "> By far, most Patients were scholarship beneficiaries. \n",
    "> A chart showing the age distribution of scholarship and non-scholarship holders among the patients will give us better insight."
   ]
  },
  {
   "cell_type": "code",
   "execution_count": 35,
   "metadata": {},
   "outputs": [
    {
     "data": {
      "image/png": "[encoded data removed]",
      "text/plain": [
       "<Figure size 432x288 with 1 Axes>"
      ]
     },
     "metadata": {
      "needs_background": "light"
     },
     "output_type": "display_data"
    }
   ],
   "source": [
    "#age distribution of scholarship and non-scholarship\n",
    "\n",
    "sns.histplot(x=df[df['Scholarship'] == 0].Age,color='teal', label='Age of Patients',bins=10);\n",
    "sns.histplot(x=df[df['Scholarship'] == 1].Age,color='black', label='Age of Patients',bins=10).set(title='Age Distribution of Patients with and Patients Without Scholarships');"
   ]
  },
  {
   "cell_type": "markdown",
   "metadata": {},
   "source": [
    "> The age distribution is similar among both categories. Important points to note:\n",
    "> 1. The vast majority of patients with appointments were on a scholarship at the time.\n",
    "> 2. Patients with ages 80 and above were not on scholarships."
   ]
  },
  {
   "cell_type": "code",
   "execution_count": 41,
   "metadata": {},
   "outputs": [
    {
     "data": {
      "image/png": "[encoded data removed]",
      "text/plain": [
       "<Figure size 576x288 with 1 Axes>"
      ]
     },
     "metadata": {
      "needs_background": "light"
     },
     "output_type": "display_data"
    }
   ],
   "source": [
    "# Plot a bar chart with proportions to gain more accurate insight and eliminate bias\n",
    "myplot = scholarship_df.plot(kind='barh',stacked=True, x='Patients_with_appointments', y=['Percentage_that_attended', 'Percentage_that_missed'],rot=45, color=['gold','grey'],title='Attendance By Patient Scholarship status', figsize=(8,4));\n",
    "myplot.set_xlabel('Percentage(%)');"
   ]
  },
  {
   "cell_type": "markdown",
   "metadata": {},
   "source": [
    "> There was about 4% greater attendance rate among scholarship-holders compared to their non-scholarship holding counterparts. This may have been affected by the fact that most non-scholarship holders are older patients."
   ]
  },
  {
   "cell_type": "markdown",
   "metadata": {},
   "source": [
    "### 4. Were there differences in compliance rate of patients based on the degree of their handicap or disability?"
   ]
  },
  {
   "cell_type": "code",
   "execution_count": 42,
   "metadata": {
    "scrolled": true
   },
   "outputs": [
    {
     "data": {
      "text/html": [
       "<div>\n",
       "<style scoped>\n",
       "    .dataframe tbody tr th:only-of-type {\n",
       "        vertical-align: middle;\n",
       "    }\n",
       "\n",
       "    .dataframe tbody tr th {\n",
       "        vertical-align: top;\n",
       "    }\n",
       "\n",
       "    .dataframe thead th {\n",
       "        text-align: right;\n",
       "    }\n",
       "</style>\n",
       "<table border=\"1\" class=\"dataframe\">\n",
       "  <thead>\n",
       "    <tr style=\"text-align: right;\">\n",
       "      <th></th>\n",
       "      <th>Patients_with_appointments</th>\n",
       "      <th>Showed_up</th>\n",
       "      <th>Missed_appointment</th>\n",
       "      <th>Total</th>\n",
       "      <th>Percentage_that_attended</th>\n",
       "      <th>Percentage_that_missed</th>\n",
       "    </tr>\n",
       "  </thead>\n",
       "  <tbody>\n",
       "    <tr>\n",
       "      <th>0</th>\n",
       "      <td>Not disabled</td>\n",
       "      <td>86374</td>\n",
       "      <td>21912</td>\n",
       "      <td>108286</td>\n",
       "      <td>79.764697</td>\n",
       "      <td>20.235303</td>\n",
       "    </tr>\n",
       "    <tr>\n",
       "      <th>1</th>\n",
       "      <td>Mild disability</td>\n",
       "      <td>1676</td>\n",
       "      <td>366</td>\n",
       "      <td>2042</td>\n",
       "      <td>82.076396</td>\n",
       "      <td>17.923604</td>\n",
       "    </tr>\n",
       "    <tr>\n",
       "      <th>2</th>\n",
       "      <td>Moderate disability</td>\n",
       "      <td>146</td>\n",
       "      <td>37</td>\n",
       "      <td>183</td>\n",
       "      <td>79.781421</td>\n",
       "      <td>20.218579</td>\n",
       "    </tr>\n",
       "    <tr>\n",
       "      <th>3</th>\n",
       "      <td>Severe Disability</td>\n",
       "      <td>10</td>\n",
       "      <td>3</td>\n",
       "      <td>13</td>\n",
       "      <td>76.923077</td>\n",
       "      <td>23.076923</td>\n",
       "    </tr>\n",
       "    <tr>\n",
       "      <th>4</th>\n",
       "      <td>Moribund</td>\n",
       "      <td>2</td>\n",
       "      <td>1</td>\n",
       "      <td>3</td>\n",
       "      <td>66.666667</td>\n",
       "      <td>33.333333</td>\n",
       "    </tr>\n",
       "  </tbody>\n",
       "</table>\n",
       "</div>"
      ],
      "text/plain": [
       "  Patients_with_appointments  Showed_up  Missed_appointment   Total  \\\n",
       "0               Not disabled      86374               21912  108286   \n",
       "1            Mild disability       1676                 366    2042   \n",
       "2        Moderate disability        146                  37     183   \n",
       "3          Severe Disability         10                   3      13   \n",
       "4                   Moribund          2                   1       3   \n",
       "\n",
       "   Percentage_that_attended  Percentage_that_missed  \n",
       "0                 79.764697               20.235303  \n",
       "1                 82.076396               17.923604  \n",
       "2                 79.781421               20.218579  \n",
       "3                 76.923077               23.076923  \n",
       "4                 66.666667               33.333333  "
      ]
     },
     "execution_count": 42,
     "metadata": {},
     "output_type": "execute_result"
    }
   ],
   "source": [
    "# create a new dataframe that classifiess patients based on their handicap(or lack of it)\n",
    "myvalues = clean_df.handcap.unique()\n",
    "new_handicap = makeAttendanceTable(myvalues=myvalues, parentDataFrame=clean_df, name_df='new_handicap', attribute='handcap')\n",
    "new_handicap"
   ]
  },
  {
   "cell_type": "code",
   "execution_count": 43,
   "metadata": {},
   "outputs": [
    {
     "data": {
      "image/png": "[encoded data removed]",
      "text/plain": [
       "<Figure size 576x288 with 1 Axes>"
      ]
     },
     "metadata": {
      "needs_background": "light"
     },
     "output_type": "display_data"
    }
   ],
   "source": [
    "# Plot a bar chart to illustrate the findings\n",
    "new_handicap.plot(kind='bar', x='Patients_with_appointments', y=['Percentage_that_attended', 'Percentage_that_missed'],rot=45, color=['grey','orange'], ylabel='Percentage(%)', figsize=(8,4), title='Attendance by Patient Disabilty Status');"
   ]
  },
  {
   "cell_type": "markdown",
   "metadata": {
    "collapsed": true
   },
   "source": [
    "> Generally, average attendance fell gradually  with increasing patient disability and was lowest amongst the most disabled category.\n",
    "> However, proportionally, mildly disabled patients honoured their appointments the most -more than those patients without any disability."
   ]
  },
  {
   "cell_type": "markdown",
   "metadata": {},
   "source": [
    "### 5. What is the general patient age distribution? What is the age distribution among patients that honoured their appointments and those that did not?"
   ]
  },
  {
   "cell_type": "code",
   "execution_count": 44,
   "metadata": {},
   "outputs": [],
   "source": [
    "#create my function for histogram plotting\n",
    "def myHistPlot(data, color, title='', legend=''): \n",
    "    data.hist(figsize=(10,8), color=color, alpha=0.8);\n",
    "    plt.title(title)\n",
    "    plt.xlabel('Age')\n",
    "    plt.ylabel('Number of Patients');\n",
    "    plt.legend(legend)"
   ]
  },
  {
   "cell_type": "code",
   "execution_count": 45,
   "metadata": {},
   "outputs": [
    {
     "data": {
      "image/png": "[encoded data removed]",
      "text/plain": [
       "<Figure size 720x576 with 1 Axes>"
      ]
     },
     "metadata": {
      "needs_background": "light"
     },
     "output_type": "display_data"
    }
   ],
   "source": [
    "# Plot a Histogram to demonstrate the age distribution of all Patients with appointments\n",
    "myHistPlot(data=df.Age, color='green', title='Age Distribution of all Patients with Appointments')\n"
   ]
  },
  {
   "cell_type": "markdown",
   "metadata": {},
   "source": [
    "> In general, patients with appointments were by far mostly younger and middle-aged persons. The smaller the age, the more the number of patients. There were very few patients above the age of 90. "
   ]
  },
  {
   "cell_type": "code",
   "execution_count": 46,
   "metadata": {},
   "outputs": [
    {
     "data": {
      "image/png": "[encoded data removed]",
      "text/plain": [
       "<Figure size 720x576 with 1 Axes>"
      ]
     },
     "metadata": {
      "needs_background": "light"
     },
     "output_type": "display_data"
    }
   ],
   "source": [
    "#compare general patient distribution by age to age distribution of patients that turned up for their appointments\n",
    "legend=['All Patients', 'Patients that Showed up']\n",
    "myHistPlot(data=clean_df.age, color='green')\n",
    "myHistPlot(data=clean_df[clean_df['showed_up'] == 'Yes'].age, color = 'aquamarine', title='Age Distribution of all Patients with Appointments', legend=legend)"
   ]
  },
  {
   "cell_type": "code",
   "execution_count": 47,
   "metadata": {},
   "outputs": [
    {
     "data": {
      "image/png": "[encoded data removed]",
      "text/plain": [
       "<Figure size 720x576 with 1 Axes>"
      ]
     },
     "metadata": {
      "needs_background": "light"
     },
     "output_type": "display_data"
    }
   ],
   "source": [
    "#compare general patient distribution by age to age distribution of patients that missed their appointments\n",
    "legend=['All Patients', 'Patients that Missed their Appointments']\n",
    "myHistPlot(data=clean_df.age, color='green')\n",
    "myHistPlot(data=clean_df[clean_df['showed_up'] == 'No'].age, color = 'red', legend=legend)\n",
    "#myHistPlot(data=clean_df[clean_df['showed_up'] == 'Yes'].age, color = 'aquamarine', title='Age Distribution of all Patients with Appointments vesus Age Distribution of Patients that Missed their Appointments', legend=legend)\n"
   ]
  },
  {
   "cell_type": "code",
   "execution_count": 48,
   "metadata": {},
   "outputs": [
    {
     "data": {
      "image/png": "[encoded data removed]",
      "text/plain": [
       "<Figure size 720x576 with 1 Axes>"
      ]
     },
     "metadata": {
      "needs_background": "light"
     },
     "output_type": "display_data"
    }
   ],
   "source": [
    "#compare the general age distribution with age distribution of both categories.\n",
    "legend=['All Patients', 'Patients that showed up', 'Patients that Missed their Appointments']\n",
    "myHistPlot(data=clean_df.age, color='green')\n",
    "myHistPlot(data=clean_df[clean_df['showed_up'] == 'Yes'].age, color = 'aquamarine')\n",
    "myHistPlot(data=clean_df[clean_df['showed_up'] == 'No'].age, color = 'red', title='Combining all three Histograms in one Plot', legend=legend)"
   ]
  },
  {
   "cell_type": "markdown",
   "metadata": {},
   "source": [
    "> Majority of patients with appointments kept to their arrangements\n",
    "> Younger patients generally visited the clinics more than older patients on their days of appointment.\n"
   ]
  },
  {
   "cell_type": "markdown",
   "metadata": {},
   "source": [
    "<a id='conclusions'></a>\n",
    "## Conclusions\n",
    "\n",
    "##### Findings:\n",
    "\n",
    "> **Limitations**: No statistical tests were done in this project, therefore these findings do not prove causation. However, there are several instances of correlation.\n",
    "\n",
    "1. The vast majority of patients in this sample were not alcoholics, that is over 10,000 people. \n",
    "> Percentage attendance among non-alcoholics was about 0.05% higher compared to patients that were alcoholics. \n",
    "> Proportionally, there was no significant difference in compliance to appointments between the alcoholic group and the other patients. \n",
    "\n",
    "2. Attendance was up by almost 9% in the category of patients that were reminded of their appointments by SMS compared to those that were not reminded. \n",
    "\n",
    "3. There was a greater attendance rate among scholarship-holders compared to their non-scholarship holding counterparts.\n",
    "\n",
    "4. Generally, average attendance fell gradually  with increasing patient disability and was lowest amongst the most disabled category.\n",
    "\n",
    "5. In general, patients with appointments were by far mostly younger and middle-aged persons. The smaller the age, the more the number of patients. There were very few patients above the age of 90.\n",
    "\n",
    "\n",
    "\n"
   ]
  }
 ],
 "metadata": {
  "kernelspec": {
   "display_name": "Python 3 (ipykernel)",
   "language": "python",
   "name": "python3"
  },
  "language_info": {
   "codemirror_mode": {
    "name": "ipython",
    "version": 3
   },
   "file_extension": ".py",
   "mimetype": "text/x-python",
   "name": "python",
   "nbconvert_exporter": "python",
   "pygments_lexer": "ipython3",
   "version": "3.7.3"
  }
 },
 "nbformat": 4,
 "nbformat_minor": 2
}
